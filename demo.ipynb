{
 "cells": [
  {
   "cell_type": "markdown",
   "id": "adjusted-penalty",
   "metadata": {},
   "source": [
    "Standard imports"
   ]
  },
  {
   "cell_type": "code",
   "execution_count": 1,
   "id": "white-realtor",
   "metadata": {},
   "outputs": [],
   "source": [
    "import numpy as np\n",
    "import matplotlib.pyplot as plt\n",
    "from scipy import stats\n",
    "import pandas as pd\n",
    "import copy\n",
    "from pprint import pprint\n",
    "from shutil import copy2\n",
    "import os.path"
   ]
  },
  {
   "cell_type": "markdown",
   "id": "monthly-software",
   "metadata": {},
   "source": [
    "Local imports\n",
    "\n"
   ]
  },
  {
   "cell_type": "code",
   "execution_count": null,
   "id": "relevant-monkey",
   "metadata": {},
   "outputs": [],
   "source": [
    "from initial_params import initial_params\n",
    "from model_params import modelN, models\n",
    "\n",
    "from classes import Embryo\n",
    "from functions import define_initial_protein_concentrations, setup_embryos, run_model, check_embryos_success, define_experiment_groups, set_params_from_df\n",
    "from plot_functions import create_presentation_fig_arrays, save_presentation_figs, save_method_figs, save_results_figs"
   ]
  },
  {
   "cell_type": "markdown",
   "id": "animated-moment",
   "metadata": {},
   "source": [
    "Define save directory for output\n"
   ]
  },
  {
   "cell_type": "code",
   "execution_count": null,
   "id": "joint-raleigh",
   "metadata": {},
   "outputs": [],
   "source": [
    "save_directory = 'results/jupyter/'\n",
    "if save_directory[-1] != '/':\n",
    "    save_directory = save_directory + '/'\n",
    "if not os.path.isdir('results/'):\n",
    "    os.mkdir('results/')\n",
    "if not os.path.isdir(save_directory):\n",
    "    os.mkdir(save_directory)"
   ]
  },
  {
   "cell_type": "code",
   "execution_count": null,
   "id": "portuguese-samoa",
   "metadata": {},
   "outputs": [],
   "source": [
    "# initialize embryos\n",
    "embryoN = 30\n",
    "embryos = [Embryo('title', initial_params['number_of_cells']) for i in range(embryoN)]\n",
    "\n",
    "model_values = np.ndarray((modelN, embryoN, initial_params['number_of_cells']), dtype=float)\n",
    "model_ylim = np.ndarray((modelN, embryoN, 2), dtype=float)\n",
    "\n",
    "for model_idx, model in enumerate(models):\n",
    "    \n",
    "    initial_concentrations = define_initial_protein_concentrations(initial_params)\n",
    "    embryos = setup_embryos(embryos, model, initial_concentrations)\n",
    "    \n",
    "    for embryo in embryos:\n",
    "        run_model(embryo, model)\n",
    "        embryo.find_streaks()\n",
    "        \n",
    "    successN, failureN = check_embryos_success(embryos)\n",
    "    experiments = define_experiment_groups(embryos)\n",
    "    for exp in experiments:\n",
    "        exp.find_plot_model_ylim()\n",
    "        \n",
    "    model_values[model_idx,:,:], model_ylim[model_idx,:,:] = create_presentation_fig_arrays(embryos)\n",
    "    temp_model_values, temp_model_ylim = create_presentation_fig_arrays(embryos)\n",
    "        \n",
    "save_method_figs( models, embryos, model_values, model_ylim, 'Arial', save_directory + 'method/' )\n",
    "save_results_figs( models, embryos, model_values, model_ylim, 'Arial', save_directory + 'results/' )\n",
    "\n",
    "code_directory = save_directory + 'code/'\n",
    "if not os.path.isdir(code_directory):\n",
    "    os.mkdir(code_directory)\n",
    "\n",
    "filenames = ['classes.py', 'functions.py', 'plot_functions.py', 'model_params.py', 'bead_params.py', 'initial_params.py']\n",
    "for filename in filenames:\n",
    "    copy2(filename, code_directory + filename)\n",
    "\n"
   ]
  }
 ],
 "metadata": {
  "kernelspec": {
   "display_name": "Python 3",
   "language": "python",
   "name": "python3"
  },
  "language_info": {
   "codemirror_mode": {
    "name": "ipython",
    "version": 3
   },
   "file_extension": ".py",
   "mimetype": "text/x-python",
   "name": "python",
   "nbconvert_exporter": "python",
   "pygments_lexer": "ipython3",
   "version": "3.7.9"
  }
 },
 "nbformat": 4,
 "nbformat_minor": 5
}
