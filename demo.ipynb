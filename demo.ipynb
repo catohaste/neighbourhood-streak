{
 "cells": [
  {
   "cell_type": "markdown",
   "id": "adjusted-penalty",
   "metadata": {},
   "source": [
    "Standard imports"
   ]
  },
  {
   "cell_type": "code",
   "execution_count": null,
   "id": "white-realtor",
   "metadata": {},
   "outputs": [],
   "source": [
    "import os.path\n",
    "import matplotlib.pyplot as plt\n",
    "import numpy as np"
   ]
  },
  {
   "cell_type": "markdown",
   "id": "monthly-software",
   "metadata": {},
   "source": [
    "Local imports\n",
    "\n"
   ]
  },
  {
   "cell_type": "code",
   "execution_count": null,
   "id": "relevant-monkey",
   "metadata": {},
   "outputs": [],
   "source": [
    "from initial_params import initial_params\n",
    "from model_params import load_models\n",
    "\n",
    "from classes import Embryo\n",
    "from functions import define_initial_protein_concentrations, setup_embryos, run_model, check_embryos_success, define_experiment_groups\n",
    "from plot_functions import create_presentation_fig_arrays, set_up_protein_fig, set_up_fig_trio"
   ]
  },
  {
   "cell_type": "markdown",
   "id": "animated-moment",
   "metadata": {},
   "source": [
    "Define save directory for output\n"
   ]
  },
  {
   "cell_type": "code",
   "execution_count": null,
   "id": "joint-raleigh",
   "metadata": {},
   "outputs": [],
   "source": [
    "save_directory = 'output/jupyter/'\n",
    "if not os.path.isdir('output/'):\n",
    "    os.mkdir('output/')\n",
    "if not os.path.isdir(save_directory):\n",
    "    os.mkdir(save_directory)"
   ]
  },
  {
   "cell_type": "markdown",
   "id": "weighted-answer",
   "metadata": {},
   "source": [
    "Choose experiment and select relevant embryos"
   ]
  },
  {
   "cell_type": "code",
   "execution_count": null,
   "id": "portuguese-samoa",
   "metadata": {},
   "outputs": [],
   "source": [
    "# choose experiment\n",
    "experiment_options = ['testing', 'all_exps', 'cell_pellet', 'activin_ant', 'bmp4_ant', 'threshold']\n",
    "select_exp = 'activin_ant'\n",
    "\n",
    "if select_exp == 'testing':\n",
    "    select_embryos = [0]\n",
    "elif select_exp == 'all_exps':\n",
    "    select_embryos = list(range(1,15))\n",
    "elif select_exp == 'cell_pellet':\n",
    "    select_embryos = [1,2,3,4]\n",
    "elif select_exp == 'activin_ant':\n",
    "    select_embryos = [5,6,7,8,9]\n",
    "elif select_exp == 'bmp4_ant':\n",
    "    select_embryos = [10,11]\n",
    "elif select_exp == 'threshold':\n",
    "    select_embryos = [12,13,14]\n",
    "else:\n",
    "    print(\"Invalid selection for 'select_exp'. Choose option from 'experiment_options'.\")"
   ]
  },
  {
   "cell_type": "markdown",
   "id": "mighty-expert",
   "metadata": {},
   "source": [
    "Initialize embryos and models with appropriate parameter values"
   ]
  },
  {
   "cell_type": "code",
   "execution_count": null,
   "id": "agreed-harvey",
   "metadata": {},
   "outputs": [],
   "source": [
    "# initialize embryos\n",
    "embryoN = 15\n",
    "embryos = [Embryo('title', initial_params['number_of_cells']) for i in range(embryoN)]\n",
    "                \n",
    "# initialize models\n",
    "models = load_models(select_exp)\n",
    "modelN = len(models)\n",
    "\n",
    "# set-up initial protein concentrations in embryos, and add beads\n",
    "for model_idx, model in enumerate(models):\n",
    "    \n",
    "    initial_concentrations = define_initial_protein_concentrations(initial_params)\n",
    "    embryos = setup_embryos(embryos, model, initial_concentrations)"
   ]
  },
  {
   "cell_type": "markdown",
   "id": "detailed-relevance",
   "metadata": {},
   "source": [
    "Print protein concentration diagrams for chosen experiment"
   ]
  },
  {
   "cell_type": "code",
   "execution_count": null,
   "id": "received-destruction",
   "metadata": {},
   "outputs": [],
   "source": [
    "# print protein diagrams\n",
    "for embryo_idx in select_embryos:\n",
    "    embryo = embryos[embryo_idx]\n",
    "    fig = set_up_protein_fig(embryo)\n",
    "    plt.show()"
   ]
  },
  {
   "cell_type": "markdown",
   "id": "linear-effects",
   "metadata": {},
   "source": [
    "Run models"
   ]
  },
  {
   "cell_type": "code",
   "execution_count": null,
   "id": "unexpected-football",
   "metadata": {},
   "outputs": [],
   "source": [
    "model_values = np.ndarray((modelN, embryoN, initial_params['number_of_cells']), dtype=float)\n",
    "model_ylim = np.ndarray((modelN, embryoN, 2), dtype=float)\n",
    "\n",
    "for model_idx, model in enumerate(models):\n",
    "    \n",
    "    for embryo in embryos:\n",
    "        run_model(embryo, model)\n",
    "        embryo.find_streaks()\n",
    "    \n",
    "    successN, failureN = check_embryos_success(embryos)\n",
    "    experiments = define_experiment_groups(embryos)\n",
    "    for exp in experiments:\n",
    "        exp.find_plot_model_ylim()\n",
    "    \n",
    "    # save model values ready for plotting \n",
    "    model_values[model_idx,:,:], model_ylim[model_idx,:,:] = create_presentation_fig_arrays(embryos)\n",
    "        "
   ]
  },
  {
   "cell_type": "markdown",
   "id": "accessible-graphics",
   "metadata": {},
   "source": [
    "Plot output"
   ]
  },
  {
   "cell_type": "code",
   "execution_count": null,
   "id": "uniform-investor",
   "metadata": {},
   "outputs": [],
   "source": [
    "for embryo_idx in select_embryos:\n",
    "    embryo = embryos[embryo_idx]\n",
    "    fig_trio = set_up_fig_trio(embryo, models, model_values[:,embryo_idx,:], model_ylim[:,embryo_idx,:])\n",
    "    plt.show()\n",
    "    "
   ]
  }
 ],
 "metadata": {
  "kernelspec": {
   "display_name": "Python 3 (ipykernel)",
   "language": "python",
   "name": "python3"
  },
  "language_info": {
   "codemirror_mode": {
    "name": "ipython",
    "version": 3
   },
   "file_extension": ".py",
   "mimetype": "text/x-python",
   "name": "python",
   "nbconvert_exporter": "python",
   "pygments_lexer": "ipython3",
   "version": "3.12.2"
  }
 },
 "nbformat": 4,
 "nbformat_minor": 5
}
